{
  "nbformat": 4,
  "nbformat_minor": 0,
  "metadata": {
    "colab": {
      "provenance": [],
      "authorship_tag": "ABX9TyNCt5YeVFnj8P+MEoyMHyHD",
      "include_colab_link": true
    },
    "kernelspec": {
      "name": "python3",
      "display_name": "Python 3"
    },
    "language_info": {
      "name": "python"
    }
  },
  "cells": [
    {
      "cell_type": "markdown",
      "metadata": {
        "id": "view-in-github",
        "colab_type": "text"
      },
      "source": [
        "<a href=\"https://colab.research.google.com/github/chihlee10009/repo-3-public/blob/main/PyCoaching_Scribble.ipynb\" target=\"_parent\"><img src=\"https://colab.research.google.com/assets/colab-badge.svg\" alt=\"Open In Colab\"/></a>"
      ]
    },
    {
      "cell_type": "code",
      "execution_count": null,
      "metadata": {
        "id": "IxjhDhghcqnE"
      },
      "outputs": [],
      "source": [
        "import numpy as np"
      ]
    },
    {
      "cell_type": "code",
      "source": [
        "# prompt: how do i load data with numpy\n",
        "\n",
        "# Load data from a text file\n",
        "data = np.loadtxt(\"data.txt\")  # Replace \"data.txt\" with your file path\n",
        "\n",
        "# Load data from a CSV file\n",
        "data = np.genfromtxt(\"data.csv\", delimiter=\",\")  # Replace \"data.csv\" with your file path and specify the delimiter\n",
        "\n",
        "# Load data from a binary file (.npy)\n",
        "data = np.load(\"data.npy\")  # Replace \"data.npy\" with your file path\n",
        "\n",
        "\n",
        "# Example using a text file with space delimiter\n",
        "# data.txt content:\n",
        "# 1 2 3\n",
        "# 4 5 6\n",
        "# 7 8 9\n",
        "data = np.loadtxt(\"data.txt\")\n",
        "data\n",
        "\n"
      ],
      "metadata": {
        "colab": {
          "base_uri": "https://localhost:8080/",
          "height": 35
        },
        "id": "80ImmM2Nd8sj",
        "outputId": "88017878-b23f-4f8a-c67b-5ec9bf73f853"
      },
      "execution_count": null,
      "outputs": [
        {
          "output_type": "execute_result",
          "data": {
            "text/plain": [
              "'3.10.12 (main, Nov  6 2024, 20:22:13) [GCC 11.4.0]'"
            ],
            "application/vnd.google.colaboratory.intrinsic+json": {
              "type": "string"
            }
          },
          "metadata": {},
          "execution_count": 4
        }
      ]
    },
    {
      "cell_type": "code",
      "source": [
        "data = np.loadtxt(\"Sod.0025.tab\")"
      ],
      "metadata": {
        "id": "8d0cFPK7fWxx"
      },
      "execution_count": null,
      "outputs": []
    },
    {
      "cell_type": "code",
      "source": [
        "print(data.shape)"
      ],
      "metadata": {
        "colab": {
          "base_uri": "https://localhost:8080/"
        },
        "id": "dK1O3D0YhJcE",
        "outputId": "8c116a93-5705-4720-841e-3f3b1b27700c"
      },
      "execution_count": null,
      "outputs": [
        {
          "output_type": "stream",
          "name": "stdout",
          "text": [
            "(1024, 7)\n"
          ]
        }
      ]
    },
    {
      "cell_type": "code",
      "source": [
        "print(data[0,:])"
      ],
      "metadata": {
        "colab": {
          "base_uri": "https://localhost:8080/"
        },
        "id": "KwsdSn21ih3g",
        "outputId": "774ddd93-8294-4437-b9db-705b0e69b7d2"
      },
      "execution_count": null,
      "outputs": [
        {
          "output_type": "stream",
          "name": "stdout",
          "text": [
            "[ 4.00000e+00 -4.99512e-01  1.00000e+00  2.86562e-17  0.00000e+00\n",
            "  0.00000e+00  1.00000e+00]\n"
          ]
        }
      ]
    },
    {
      "cell_type": "code",
      "source": [
        "print(data.dtype)"
      ],
      "metadata": {
        "colab": {
          "base_uri": "https://localhost:8080/"
        },
        "id": "a2k3uI2ejO4_",
        "outputId": "4646b378-1f34-49f0-f907-407cde168586"
      },
      "execution_count": null,
      "outputs": [
        {
          "output_type": "stream",
          "name": "stdout",
          "text": [
            "float64\n"
          ]
        }
      ]
    },
    {
      "cell_type": "markdown",
      "source": [],
      "metadata": {
        "id": "CUxyRtbphCxk"
      }
    },
    {
      "cell_type": "code",
      "source": [
        "from matplotlib.pyplot import *"
      ],
      "metadata": {
        "id": "3QdrO8gYlApj"
      },
      "execution_count": null,
      "outputs": []
    },
    {
      "cell_type": "code",
      "source": [
        "plot"
      ],
      "metadata": {
        "colab": {
          "base_uri": "https://localhost:8080/",
          "height": 203
        },
        "id": "MJVvPS1sR_KK",
        "outputId": "2e054849-5285-4a35-d680-2db860786936"
      },
      "execution_count": null,
      "outputs": [
        {
          "output_type": "execute_result",
          "data": {
            "text/plain": [
              "<function matplotlib.pyplot.plot(*args: 'float | ArrayLike | str', scalex: 'bool' = True, scaley: 'bool' = True, data=None, **kwargs) -> 'list[Line2D]'>"
            ],
            "text/html": [
              "<div style=\"max-width:800px; border: 1px solid var(--colab-border-color);\"><style>\n",
              "      pre.function-repr-contents {\n",
              "        overflow-x: auto;\n",
              "        padding: 8px 12px;\n",
              "        max-height: 500px;\n",
              "      }\n",
              "\n",
              "      pre.function-repr-contents.function-repr-contents-collapsed {\n",
              "        cursor: pointer;\n",
              "        max-height: 100px;\n",
              "      }\n",
              "    </style>\n",
              "    <pre style=\"white-space: initial; background:\n",
              "         var(--colab-secondary-surface-color); padding: 8px 12px;\n",
              "         border-bottom: 1px solid var(--colab-border-color);\"><b>matplotlib.pyplot.plot</b><br/>def plot(*args: float | ArrayLike | str, scalex: bool=True, scaley: bool=True, data=None, **kwargs) -&gt; list[Line2D]</pre><pre class=\"function-repr-contents function-repr-contents-collapsed\" style=\"\"><a class=\"filepath\" style=\"display:none\" href=\"#\">/usr/local/lib/python3.10/dist-packages/matplotlib/pyplot.py</a>Plot y versus x as lines and/or markers.\n",
              "\n",
              "Call signatures::\n",
              "\n",
              "    plot([x], y, [fmt], *, data=None, **kwargs)\n",
              "    plot([x], y, [fmt], [x2], y2, [fmt2], ..., **kwargs)\n",
              "\n",
              "The coordinates of the points or line nodes are given by *x*, *y*.\n",
              "\n",
              "The optional parameter *fmt* is a convenient way for defining basic\n",
              "formatting like color, marker and linestyle. It&#x27;s a shortcut string\n",
              "notation described in the *Notes* section below.\n",
              "\n",
              "&gt;&gt;&gt; plot(x, y)        # plot x and y using default line style and color\n",
              "&gt;&gt;&gt; plot(x, y, &#x27;bo&#x27;)  # plot x and y using blue circle markers\n",
              "&gt;&gt;&gt; plot(y)           # plot y using x as index array 0..N-1\n",
              "&gt;&gt;&gt; plot(y, &#x27;r+&#x27;)     # ditto, but with red plusses\n",
              "\n",
              "You can use `.Line2D` properties as keyword arguments for more\n",
              "control on the appearance. Line properties and *fmt* can be mixed.\n",
              "The following two calls yield identical results:\n",
              "\n",
              "&gt;&gt;&gt; plot(x, y, &#x27;go--&#x27;, linewidth=2, markersize=12)\n",
              "&gt;&gt;&gt; plot(x, y, color=&#x27;green&#x27;, marker=&#x27;o&#x27;, linestyle=&#x27;dashed&#x27;,\n",
              "...      linewidth=2, markersize=12)\n",
              "\n",
              "When conflicting with *fmt*, keyword arguments take precedence.\n",
              "\n",
              "\n",
              "**Plotting labelled data**\n",
              "\n",
              "There&#x27;s a convenient way for plotting objects with labelled data (i.e.\n",
              "data that can be accessed by index ``obj[&#x27;y&#x27;]``). Instead of giving\n",
              "the data in *x* and *y*, you can provide the object in the *data*\n",
              "parameter and just give the labels for *x* and *y*::\n",
              "\n",
              "&gt;&gt;&gt; plot(&#x27;xlabel&#x27;, &#x27;ylabel&#x27;, data=obj)\n",
              "\n",
              "All indexable objects are supported. This could e.g. be a `dict`, a\n",
              "`pandas.DataFrame` or a structured numpy array.\n",
              "\n",
              "\n",
              "**Plotting multiple sets of data**\n",
              "\n",
              "There are various ways to plot multiple sets of data.\n",
              "\n",
              "- The most straight forward way is just to call `plot` multiple times.\n",
              "  Example:\n",
              "\n",
              "  &gt;&gt;&gt; plot(x1, y1, &#x27;bo&#x27;)\n",
              "  &gt;&gt;&gt; plot(x2, y2, &#x27;go&#x27;)\n",
              "\n",
              "- If *x* and/or *y* are 2D arrays a separate data set will be drawn\n",
              "  for every column. If both *x* and *y* are 2D, they must have the\n",
              "  same shape. If only one of them is 2D with shape (N, m) the other\n",
              "  must have length N and will be used for every data set m.\n",
              "\n",
              "  Example:\n",
              "\n",
              "  &gt;&gt;&gt; x = [1, 2, 3]\n",
              "  &gt;&gt;&gt; y = np.array([[1, 2], [3, 4], [5, 6]])\n",
              "  &gt;&gt;&gt; plot(x, y)\n",
              "\n",
              "  is equivalent to:\n",
              "\n",
              "  &gt;&gt;&gt; for col in range(y.shape[1]):\n",
              "  ...     plot(x, y[:, col])\n",
              "\n",
              "- The third way is to specify multiple sets of *[x]*, *y*, *[fmt]*\n",
              "  groups::\n",
              "\n",
              "  &gt;&gt;&gt; plot(x1, y1, &#x27;g^&#x27;, x2, y2, &#x27;g-&#x27;)\n",
              "\n",
              "  In this case, any additional keyword argument applies to all\n",
              "  datasets. Also, this syntax cannot be combined with the *data*\n",
              "  parameter.\n",
              "\n",
              "By default, each line is assigned a different style specified by a\n",
              "&#x27;style cycle&#x27;. The *fmt* and line property parameters are only\n",
              "necessary if you want explicit deviations from these defaults.\n",
              "Alternatively, you can also change the style cycle using\n",
              ":rc:`axes.prop_cycle`.\n",
              "\n",
              "\n",
              "Parameters\n",
              "----------\n",
              "x, y : array-like or scalar\n",
              "    The horizontal / vertical coordinates of the data points.\n",
              "    *x* values are optional and default to ``range(len(y))``.\n",
              "\n",
              "    Commonly, these parameters are 1D arrays.\n",
              "\n",
              "    They can also be scalars, or two-dimensional (in that case, the\n",
              "    columns represent separate data sets).\n",
              "\n",
              "    These arguments cannot be passed as keywords.\n",
              "\n",
              "fmt : str, optional\n",
              "    A format string, e.g. &#x27;ro&#x27; for red circles. See the *Notes*\n",
              "    section for a full description of the format strings.\n",
              "\n",
              "    Format strings are just an abbreviation for quickly setting\n",
              "    basic line properties. All of these and more can also be\n",
              "    controlled by keyword arguments.\n",
              "\n",
              "    This argument cannot be passed as keyword.\n",
              "\n",
              "data : indexable object, optional\n",
              "    An object with labelled data. If given, provide the label names to\n",
              "    plot in *x* and *y*.\n",
              "\n",
              "    .. note::\n",
              "        Technically there&#x27;s a slight ambiguity in calls where the\n",
              "        second label is a valid *fmt*. ``plot(&#x27;n&#x27;, &#x27;o&#x27;, data=obj)``\n",
              "        could be ``plt(x, y)`` or ``plt(y, fmt)``. In such cases,\n",
              "        the former interpretation is chosen, but a warning is issued.\n",
              "        You may suppress the warning by adding an empty format string\n",
              "        ``plot(&#x27;n&#x27;, &#x27;o&#x27;, &#x27;&#x27;, data=obj)``.\n",
              "\n",
              "Returns\n",
              "-------\n",
              "list of `.Line2D`\n",
              "    A list of lines representing the plotted data.\n",
              "\n",
              "Other Parameters\n",
              "----------------\n",
              "scalex, scaley : bool, default: True\n",
              "    These parameters determine if the view limits are adapted to the\n",
              "    data limits. The values are passed on to\n",
              "    `~.axes.Axes.autoscale_view`.\n",
              "\n",
              "**kwargs : `~matplotlib.lines.Line2D` properties, optional\n",
              "    *kwargs* are used to specify properties like a line label (for\n",
              "    auto legends), linewidth, antialiasing, marker face color.\n",
              "    Example::\n",
              "\n",
              "    &gt;&gt;&gt; plot([1, 2, 3], [1, 2, 3], &#x27;go-&#x27;, label=&#x27;line 1&#x27;, linewidth=2)\n",
              "    &gt;&gt;&gt; plot([1, 2, 3], [1, 4, 9], &#x27;rs&#x27;, label=&#x27;line 2&#x27;)\n",
              "\n",
              "    If you specify multiple lines with one plot call, the kwargs apply\n",
              "    to all those lines. In case the label object is iterable, each\n",
              "    element is used as labels for each set of data.\n",
              "\n",
              "    Here is a list of available `.Line2D` properties:\n",
              "\n",
              "    Properties:\n",
              "    agg_filter: a filter function, which takes a (m, n, 3) float array and a dpi value, and returns a (m, n, 3) array and two offsets from the bottom left corner of the image\n",
              "    alpha: scalar or None\n",
              "    animated: bool\n",
              "    antialiased or aa: bool\n",
              "    clip_box: `~matplotlib.transforms.BboxBase` or None\n",
              "    clip_on: bool\n",
              "    clip_path: Patch or (Path, Transform) or None\n",
              "    color or c: color\n",
              "    dash_capstyle: `.CapStyle` or {&#x27;butt&#x27;, &#x27;projecting&#x27;, &#x27;round&#x27;}\n",
              "    dash_joinstyle: `.JoinStyle` or {&#x27;miter&#x27;, &#x27;round&#x27;, &#x27;bevel&#x27;}\n",
              "    dashes: sequence of floats (on/off ink in points) or (None, None)\n",
              "    data: (2, N) array or two 1D arrays\n",
              "    drawstyle or ds: {&#x27;default&#x27;, &#x27;steps&#x27;, &#x27;steps-pre&#x27;, &#x27;steps-mid&#x27;, &#x27;steps-post&#x27;}, default: &#x27;default&#x27;\n",
              "    figure: `~matplotlib.figure.Figure`\n",
              "    fillstyle: {&#x27;full&#x27;, &#x27;left&#x27;, &#x27;right&#x27;, &#x27;bottom&#x27;, &#x27;top&#x27;, &#x27;none&#x27;}\n",
              "    gapcolor: color or None\n",
              "    gid: str\n",
              "    in_layout: bool\n",
              "    label: object\n",
              "    linestyle or ls: {&#x27;-&#x27;, &#x27;--&#x27;, &#x27;-.&#x27;, &#x27;:&#x27;, &#x27;&#x27;, (offset, on-off-seq), ...}\n",
              "    linewidth or lw: float\n",
              "    marker: marker style string, `~.path.Path` or `~.markers.MarkerStyle`\n",
              "    markeredgecolor or mec: color\n",
              "    markeredgewidth or mew: float\n",
              "    markerfacecolor or mfc: color\n",
              "    markerfacecoloralt or mfcalt: color\n",
              "    markersize or ms: float\n",
              "    markevery: None or int or (int, int) or slice or list[int] or float or (float, float) or list[bool]\n",
              "    mouseover: bool\n",
              "    path_effects: list of `.AbstractPathEffect`\n",
              "    picker: float or callable[[Artist, Event], tuple[bool, dict]]\n",
              "    pickradius: float\n",
              "    rasterized: bool\n",
              "    sketch_params: (scale: float, length: float, randomness: float)\n",
              "    snap: bool or None\n",
              "    solid_capstyle: `.CapStyle` or {&#x27;butt&#x27;, &#x27;projecting&#x27;, &#x27;round&#x27;}\n",
              "    solid_joinstyle: `.JoinStyle` or {&#x27;miter&#x27;, &#x27;round&#x27;, &#x27;bevel&#x27;}\n",
              "    transform: unknown\n",
              "    url: str\n",
              "    visible: bool\n",
              "    xdata: 1D array\n",
              "    ydata: 1D array\n",
              "    zorder: float\n",
              "\n",
              "See Also\n",
              "--------\n",
              "scatter : XY scatter plot with markers of varying size and/or color (\n",
              "    sometimes also called bubble chart).\n",
              "\n",
              "Notes\n",
              "-----\n",
              "**Format Strings**\n",
              "\n",
              "A format string consists of a part for color, marker and line::\n",
              "\n",
              "    fmt = &#x27;[marker][line][color]&#x27;\n",
              "\n",
              "Each of them is optional. If not provided, the value from the style\n",
              "cycle is used. Exception: If ``line`` is given, but no ``marker``,\n",
              "the data will be a line without markers.\n",
              "\n",
              "Other combinations such as ``[color][marker][line]`` are also\n",
              "supported, but note that their parsing may be ambiguous.\n",
              "\n",
              "**Markers**\n",
              "\n",
              "=============   ===============================\n",
              "character       description\n",
              "=============   ===============================\n",
              "``&#x27;.&#x27;``         point marker\n",
              "``&#x27;,&#x27;``         pixel marker\n",
              "``&#x27;o&#x27;``         circle marker\n",
              "``&#x27;v&#x27;``         triangle_down marker\n",
              "``&#x27;^&#x27;``         triangle_up marker\n",
              "``&#x27;&lt;&#x27;``         triangle_left marker\n",
              "``&#x27;&gt;&#x27;``         triangle_right marker\n",
              "``&#x27;1&#x27;``         tri_down marker\n",
              "``&#x27;2&#x27;``         tri_up marker\n",
              "``&#x27;3&#x27;``         tri_left marker\n",
              "``&#x27;4&#x27;``         tri_right marker\n",
              "``&#x27;8&#x27;``         octagon marker\n",
              "``&#x27;s&#x27;``         square marker\n",
              "``&#x27;p&#x27;``         pentagon marker\n",
              "``&#x27;P&#x27;``         plus (filled) marker\n",
              "``&#x27;*&#x27;``         star marker\n",
              "``&#x27;h&#x27;``         hexagon1 marker\n",
              "``&#x27;H&#x27;``         hexagon2 marker\n",
              "``&#x27;+&#x27;``         plus marker\n",
              "``&#x27;x&#x27;``         x marker\n",
              "``&#x27;X&#x27;``         x (filled) marker\n",
              "``&#x27;D&#x27;``         diamond marker\n",
              "``&#x27;d&#x27;``         thin_diamond marker\n",
              "``&#x27;|&#x27;``         vline marker\n",
              "``&#x27;_&#x27;``         hline marker\n",
              "=============   ===============================\n",
              "\n",
              "**Line Styles**\n",
              "\n",
              "=============    ===============================\n",
              "character        description\n",
              "=============    ===============================\n",
              "``&#x27;-&#x27;``          solid line style\n",
              "``&#x27;--&#x27;``         dashed line style\n",
              "``&#x27;-.&#x27;``         dash-dot line style\n",
              "``&#x27;:&#x27;``          dotted line style\n",
              "=============    ===============================\n",
              "\n",
              "Example format strings::\n",
              "\n",
              "    &#x27;b&#x27;    # blue markers with default shape\n",
              "    &#x27;or&#x27;   # red circles\n",
              "    &#x27;-g&#x27;   # green solid line\n",
              "    &#x27;--&#x27;   # dashed line with default color\n",
              "    &#x27;^k:&#x27;  # black triangle_up markers connected by a dotted line\n",
              "\n",
              "**Colors**\n",
              "\n",
              "The supported color abbreviations are the single letter codes\n",
              "\n",
              "=============    ===============================\n",
              "character        color\n",
              "=============    ===============================\n",
              "``&#x27;b&#x27;``          blue\n",
              "``&#x27;g&#x27;``          green\n",
              "``&#x27;r&#x27;``          red\n",
              "``&#x27;c&#x27;``          cyan\n",
              "``&#x27;m&#x27;``          magenta\n",
              "``&#x27;y&#x27;``          yellow\n",
              "``&#x27;k&#x27;``          black\n",
              "``&#x27;w&#x27;``          white\n",
              "=============    ===============================\n",
              "\n",
              "and the ``&#x27;CN&#x27;`` colors that index into the default property cycle.\n",
              "\n",
              "If the color is the only part of the format string, you can\n",
              "additionally use any  `matplotlib.colors` spec, e.g. full names\n",
              "(``&#x27;green&#x27;``) or hex strings (``&#x27;#008000&#x27;``).</pre>\n",
              "      <script>\n",
              "      if (google.colab.kernel.accessAllowed && google.colab.files && google.colab.files.view) {\n",
              "        for (const element of document.querySelectorAll('.filepath')) {\n",
              "          element.style.display = 'block'\n",
              "          element.onclick = (event) => {\n",
              "            event.preventDefault();\n",
              "            event.stopPropagation();\n",
              "            google.colab.files.view(element.textContent, 3570);\n",
              "          };\n",
              "        }\n",
              "      }\n",
              "      for (const element of document.querySelectorAll('.function-repr-contents')) {\n",
              "        element.onclick = (event) => {\n",
              "          event.preventDefault();\n",
              "          event.stopPropagation();\n",
              "          element.classList.toggle('function-repr-contents-collapsed');\n",
              "        };\n",
              "      }\n",
              "      </script>\n",
              "      </div>"
            ]
          },
          "metadata": {},
          "execution_count": 7
        }
      ]
    },
    {
      "cell_type": "code",
      "source": [
        "print(plt)\n",
        "print(dir(plt))"
      ],
      "metadata": {
        "colab": {
          "base_uri": "https://localhost:8080/"
        },
        "id": "8rjnuHR33XQ8",
        "outputId": "15dabdb7-f09d-47ec-c6a5-599a28c71626"
      },
      "execution_count": null,
      "outputs": [
        {
          "output_type": "stream",
          "name": "stdout",
          "text": [
            "<module 'matplotlib.pyplot' from '/usr/local/lib/python3.10/dist-packages/matplotlib/pyplot.py'>\n",
            "['AbstractContextManager', 'Annotation', 'Arrow', 'Artist', 'AutoLocator', 'Axes', 'Button', 'Circle', 'Enum', 'ExitStack', 'Figure', 'FigureBase', 'FigureCanvasBase', 'FigureManagerBase', 'FixedFormatter', 'FixedLocator', 'FormatStrFormatter', 'Formatter', 'FuncFormatter', 'GridSpec', 'IndexLocator', 'Line2D', 'LinearLocator', 'Locator', 'LogFormatter', 'LogFormatterExponent', 'LogFormatterMathtext', 'LogLocator', 'MaxNLocator', 'MouseButton', 'MultipleLocator', 'Normalize', 'NullFormatter', 'NullLocator', 'PolarAxes', 'Polygon', 'Rectangle', 'ScalarFormatter', 'Slider', 'Subplot', 'SubplotSpec', 'TYPE_CHECKING', 'Text', 'TickHelper', 'Widget', '_REPL_DISPLAYHOOK', '_ReplDisplayHook', '__annotations__', '__builtins__', '__cached__', '__doc__', '__file__', '__loader__', '__name__', '__package__', '__spec__', '_api', '_auto_draw_if_interactive', '_backend_mod', '_color_sequences', '_colormaps', '_copy_docstring_and_deprecators', '_docstring', '_draw_all_if_interactive', '_get_backend_mod', '_get_pyplot_commands', '_log', '_pylab_helpers', '_warn_if_gui_out_of_main_thread', 'acorr', 'angle_spectrum', 'annotate', 'annotations', 'arrow', 'autoscale', 'autumn', 'axes', 'axhline', 'axhspan', 'axis', 'axline', 'axvline', 'axvspan', 'bar', 'bar_label', 'barbs', 'barh', 'bone', 'box', 'boxplot', 'broken_barh', 'cast', 'cbook', 'cla', 'clabel', 'clf', 'clim', 'close', 'cm', 'cohere', 'color_sequences', 'colorbar', 'colormaps', 'connect', 'contour', 'contourf', 'cool', 'copper', 'csd', 'cycler', 'delaxes', 'disconnect', 'draw', 'draw_all', 'draw_if_interactive', 'ecdf', 'errorbar', 'eventplot', 'figaspect', 'figimage', 'figlegend', 'fignum_exists', 'figtext', 'figure', 'fill', 'fill_between', 'fill_betweenx', 'findobj', 'flag', 'functools', 'gca', 'gcf', 'gci', 'get', 'get_backend', 'get_cmap', 'get_current_fig_manager', 'get_figlabels', 'get_fignums', 'get_plot_commands', 'get_scale_names', 'getp', 'ginput', 'gray', 'grid', 'hexbin', 'hist', 'hist2d', 'hlines', 'hot', 'hsv', 'importlib', 'imread', 'imsave', 'imshow', 'inferno', 'inspect', 'install_repl_displayhook', 'interactive', 'ioff', 'ion', 'isinteractive', 'jet', 'legend', 'locator_params', 'logging', 'loglog', 'magma', 'magnitude_spectrum', 'margins', 'matplotlib', 'matshow', 'minorticks_off', 'minorticks_on', 'mlab', 'new_figure_manager', 'nipy_spectral', 'np', 'overload', 'pause', 'pcolor', 'pcolormesh', 'phase_spectrum', 'pie', 'pink', 'plasma', 'plot', 'plot_date', 'polar', 'prism', 'psd', 'quiver', 'quiverkey', 'rc', 'rcParams', 'rcParamsDefault', 'rcParamsOrig', 'rc_context', 'rcdefaults', 'rcsetup', 're', 'register_cmap', 'rgrids', 'savefig', 'sca', 'scatter', 'sci', 'semilogx', 'semilogy', 'set_cmap', 'set_loglevel', 'setp', 'show', 'specgram', 'spring', 'spy', 'stackplot', 'stairs', 'stem', 'step', 'streamplot', 'style', 'subplot', 'subplot2grid', 'subplot_mosaic', 'subplot_tool', 'subplots', 'subplots_adjust', 'summer', 'suptitle', 'switch_backend', 'sys', 'table', 'text', 'thetagrids', 'threading', 'tick_params', 'ticklabel_format', 'tight_layout', 'time', 'title', 'tricontour', 'tricontourf', 'tripcolor', 'triplot', 'twinx', 'twiny', 'uninstall_repl_displayhook', 'violinplot', 'viridis', 'vlines', 'waitforbuttonpress', 'winter', 'xcorr', 'xkcd', 'xlabel', 'xlim', 'xscale', 'xticks', 'ylabel', 'ylim', 'yscale', 'yticks']\n"
          ]
        }
      ]
    },
    {
      "cell_type": "code",
      "source": [
        "plt.plot(data[:,1],data[:,2])\n",
        "plt.show()"
      ],
      "metadata": {
        "colab": {
          "base_uri": "https://localhost:8080/",
          "height": 430
        },
        "id": "vZo_WrXNl-l1",
        "outputId": "2efee08a-d807-408e-b941-35ab71d86cbb"
      },
      "execution_count": null,
      "outputs": [
        {
          "output_type": "display_data",
          "data": {
            "text/plain": [
              "<Figure size 640x480 with 1 Axes>"
            ],
            "image/png": "[encoded data removed]"
          },
          "metadata": {}
        }
      ]
    }
  ]
}